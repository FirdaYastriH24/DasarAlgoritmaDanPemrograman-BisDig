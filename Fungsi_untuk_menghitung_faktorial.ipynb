{
  "nbformat": 4,
  "nbformat_minor": 0,
  "metadata": {
    "colab": {
      "provenance": []
    },
    "kernelspec": {
      "name": "python3",
      "display_name": "Python 3"
    },
    "language_info": {
      "name": "python"
    }
  },
  "cells": [
    {
      "cell_type": "code",
      "execution_count": 1,
      "metadata": {
        "colab": {
          "base_uri": "https://localhost:8080/"
        },
        "id": "pwPSp0_4hV_p",
        "outputId": "0026f191-4a45-40c5-aeb4-4d1ab2ce8557"
      },
      "outputs": [
        {
          "output_type": "stream",
          "name": "stdout",
          "text": [
            "Masukkan angka: 24\n",
            "Faktorial dari 24 adalah 620448401733239439360000\n"
          ]
        }
      ],
      "source": [
        "#Program pyhton untuk menghitung faktorial dari angka yang dimasukan def faktorial(n):\n",
        "    if n == 0:\n",
        "        return 1\n",
        "    else:\n",
        "        return n * faktorial(n - 1)\n",
        "\n",
        "# Contoh penggunaan\n",
        "angka = int(input(\"Masukkan angka: \"))\n",
        "print(f\"Faktorial dari {angka} adalah {faktorial(angka)}\")"
      ]
    }
  ]
}