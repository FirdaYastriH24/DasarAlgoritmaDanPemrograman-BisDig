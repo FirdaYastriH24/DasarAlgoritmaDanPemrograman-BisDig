{
  "nbformat": 4,
  "nbformat_minor": 0,
  "metadata": {
    "colab": {
      "provenance": []
    },
    "kernelspec": {
      "name": "python3",
      "display_name": "Python 3"
    },
    "language_info": {
      "name": "python"
    }
  },
  "cells": [
    {
      "cell_type": "code",
      "execution_count": 1,
      "metadata": {
        "colab": {
          "base_uri": "https://localhost:8080/"
        },
        "id": "I6rDVFbM86UV",
        "outputId": "d79f22c0-09fe-4782-e6c8-f59d4617367a"
      },
      "outputs": [
        {
          "output_type": "stream",
          "name": "stdout",
          "text": [
            "Masukkan nilai siswa ke-1: 70\n",
            "Masukkan nilai siswa ke-2: 85\n",
            "Masukkan nilai siswa ke-3: 90\n",
            "Masukkan nilai siswa ke-4: 70\n",
            "Masukkan nilai siswa ke-5: 60\n",
            "Nilai tertinggi adalah: 90\n",
            "Didapatkan oleh siswa ke-3\n"
          ]
        }
      ],
      "source": [
        "# Inisialisasi list kosong\n",
        "nilai_siswa = []\n",
        "\n",
        "# Input nilai 5 siswa\n",
        "for i in range(5):\n",
        "    nilai = int(input(f\"Masukkan nilai siswa ke-{i+1}: \"))\n",
        "    nilai_siswa.append(nilai)\n",
        "\n",
        "# Mencari nilai tertinggi\n",
        "nilai_tertinggi = max(nilai_siswa)\n",
        "siswa_pemilik_nilai_tertinggi = nilai_siswa.index(nilai_tertinggi) + 1\n",
        "\n",
        "# Tampilkan hasil\n",
        "print(f\"Nilai tertinggi adalah: {nilai_tertinggi}\")\n",
        "print(f\"Didapatkan oleh siswa ke-{siswa_pemilik_nilai_tertinggi}\")"
      ]
    }
  ]
}