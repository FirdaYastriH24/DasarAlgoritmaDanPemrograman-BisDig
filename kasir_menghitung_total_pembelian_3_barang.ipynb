{
  "nbformat": 4,
  "nbformat_minor": 0,
  "metadata": {
    "colab": {
      "provenance": []
    },
    "kernelspec": {
      "name": "python3",
      "display_name": "Python 3"
    },
    "language_info": {
      "name": "python"
    }
  },
  "cells": [
    {
      "cell_type": "code",
      "execution_count": 1,
      "metadata": {
        "colab": {
          "base_uri": "https://localhost:8080/"
        },
        "id": "LSlLHy8eAoby",
        "outputId": "6ac63f5c-ee94-49ca-e4c7-6addc3092435"
      },
      "outputs": [
        {
          "output_type": "stream",
          "name": "stdout",
          "text": [
            "Masukkan harga barang pertama: 25\n",
            "Masukkan harga barang kedua: 17\n",
            "Masukkan harga barang ketiga: 50\n",
            "Total harga pembelian adalah: Rp92.00\n"
          ]
        }
      ],
      "source": [
        "# Program sederhana untuk menghitung total harga 3 barang\n",
        "\n",
        "# Input harga dari pengguna\n",
        "barang1 = float(input(\"Masukkan harga barang pertama: \"))\n",
        "barang2 = float(input(\"Masukkan harga barang kedua: \"))\n",
        "barang3 = float(input(\"Masukkan harga barang ketiga: \"))\n",
        "\n",
        "# Proses menghitung total\n",
        "total = barang1 + barang2 + barang3\n",
        "\n",
        "# Output hasil\n",
        "print(f\"Total harga pembelian adalah: Rp{total:.2f}\")"
      ]
    }
  ]
}